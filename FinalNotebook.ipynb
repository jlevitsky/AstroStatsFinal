{
 "cells": [
  {
   "cell_type": "markdown",
   "metadata": {},
   "source": [
    "### Introduction\n",
    "\n",
    "The Moon’s craters are a well-preserved historical record of asteroid impacts for hundreds of millions of years. Because of this, we have decided to research the craters of the Moon in order to determine the frequency of potentially hazardous (140m or greater diameter) asteroids hitting the Earth. This question is interesting because it uses the Robbins lunar crater database to extrapolate relevant data that could be used to evaluate dangers to human lives and the wellbeing of our planet. In doing this, we must consider the ratio of Moon crater size to the size and mass of the asteroid that created it. We must also consider the proportion of asteroids that hit the Earth compared to the Moon, how to determine the age of a lunar crater, and what is defined as a potentially hazardous asteroid. \n",
    "\n",
    "The Robbins crater database provides insight into the size and frequency distribution across the surface of the moon, in addition to giving scientists information about the ellipticity and orientation of all craters greater than 1 km in diameter (Robbins 2018). Using crater data, we attempt to approximate the characteristics of the causal asteroids using scaling laws (Hughes et al., 2003; Melosh 1989). However, the size of the crater also depends on surface gravity, impact velocity, projectile and target density, and angle of impact. While the first can be known, the latter properties will have to be estimated based on known statistics including data from observed impacts and equations derived from simulations (Davison, 2022; Ivanov, 2002). This assumption is the largest source of error in our work. In order to estimate the rate at which these impacts occur, we can use the calculated ages of lunar craters. This too introduces error into our work, as this gives us only an estimate of the lunar geological epoch in which the craters were formed. Additionally, Robbins discusses the role of secondary craters, which are caused by ejecta from larger impactors. These craters may skew our data a bit since many small craters could have been the result of one object, and we are seeking to find frequency of collision. \n",
    "With all of this knowledge in mind, we can proceed into the analytical portion of our paper. \n"
   ]
  },
  {
   "cell_type": "markdown",
   "metadata": {},
   "source": [
    "### Methods\n",
    "In order to estimate the frequency of >140m impactors, we narrowed down our crater data to only include craters within the lunar mare Oceanus Procellarum . Because we know the approximate age at which this lunar feature was formed, 1963 ± 57 million years ago (Che et al., 2021) , we can use the formation of this mare as an interval marker for the timeline of impacts to calculate an annual impact rate. "
   ]
  },
  {
   "cell_type": "code",
   "execution_count": 174,
   "metadata": {},
   "outputs": [
    {
     "name": "stdout",
     "output_type": "stream",
     "text": [
      "       Unnamed: 0    CRATER_ID  LAT_CIRC_IMG  LON_CIRC_IMG  LAT_ELLI_IMG  \\\n",
      "60             60  01-1-000026       61.6941      172.3650       61.6953   \n",
      "61             61  01-1-000027       62.8265      177.1930       62.8215   \n",
      "62             62  01-1-000028       62.5616      175.1740       62.5700   \n",
      "63             63  01-1-000029       62.4650      177.6320       62.4484   \n",
      "64             64  01-1-000030       63.3087      179.7250       63.3068   \n",
      "...           ...          ...           ...           ...           ...   \n",
      "83056     1296791  10-2-014997      -65.6258      203.5000      -65.6216   \n",
      "83057     1296792  10-3-000000      -60.0296      178.7090      -60.0301   \n",
      "83058     1296793  10-3-000003      -66.7921      219.3790      -66.7951   \n",
      "83059     1296794  10-3-000004      -79.8374       62.1794      -79.8408   \n",
      "83060     1296795  10-3-000005      -79.6855       61.9220      -79.7055   \n",
      "\n",
      "       LON_ELLI_IMG  DIAM_CIRC_IMG  DIAM_CIRC_SD_IMG  DIAM_ELLI_MAJOR_IMG  \\\n",
      "60         172.3640       83.28940          1.464550             83.61080   \n",
      "61         177.1810       14.58610          0.683581             16.27860   \n",
      "62         175.1880        8.81791          0.461453             10.42050   \n",
      "63         177.6440       34.10250          1.080850             35.28100   \n",
      "64         179.7220       14.28570          0.228073             14.74820   \n",
      "...             ...            ...               ...                  ...   \n",
      "83056      203.5380        5.93636          0.055747              7.05088   \n",
      "83057      178.7120        7.82310          0.148027              8.31388   \n",
      "83058      219.3470       11.55320          0.689928             13.98770   \n",
      "83059       62.1830        7.16411          0.109706              7.31069   \n",
      "83060       61.8818        8.81959          0.057165              8.97592   \n",
      "\n",
      "       DIAM_ELLI_MINOR_IMG  ...  DIAM_ELLI_ANGLE_IMG  LAT_ELLI_SD_IMG  \\\n",
      "60                82.76360  ...            166.72100         0.001803   \n",
      "61                12.48930  ...            155.77000         0.000958   \n",
      "62                 7.93042  ...             46.77770         0.001543   \n",
      "63                31.60300  ...             24.92920         0.002500   \n",
      "64                13.64390  ...            128.61800         0.000541   \n",
      "...                    ...  ...                  ...              ...   \n",
      "83056              5.88898  ...              3.11966         0.000313   \n",
      "83057              7.45470  ...             72.80650         0.000355   \n",
      "83058              9.96860  ...             41.71070         0.000638   \n",
      "83059              6.53201  ...              8.53317         0.000980   \n",
      "83060              7.61108  ...            140.26400         0.002285   \n",
      "\n",
      "       LON_ELLI_SD_IMG  DIAM_ELLI_MAJOR_SD_IMG  DIAM_ELLI_MINOR_SD_IMG  \\\n",
      "60            0.003734                0.128585                0.129530   \n",
      "61            0.002496                0.074621                0.075913   \n",
      "62            0.003047                0.147348                0.069778   \n",
      "63            0.004216                0.139095                0.202455   \n",
      "64            0.000856                0.028000                0.035800   \n",
      "...                ...                     ...                     ...   \n",
      "83056         0.002835                0.091252                0.014697   \n",
      "83057         0.000566                0.034218                0.024084   \n",
      "83058         0.002100                0.071677                0.036205   \n",
      "83059         0.003186                0.032957                0.102489   \n",
      "83060         0.003279                0.050659                0.122565   \n",
      "\n",
      "       DIAM_ELLI_ANGLE_SD_IMG  DIAM_ELLI_ECCEN_SD_IMG  DIAM_ELLI_ELLIP_SD_IMG  \\\n",
      "60                   7.631450                0.015141                0.002217   \n",
      "61                   0.996982                0.006987                0.009923   \n",
      "62                   1.497060                0.014869                0.021884   \n",
      "63                   1.838540                0.013577                0.008398   \n",
      "64                   1.532300                0.007301                0.003501   \n",
      "...                       ...                     ...                     ...   \n",
      "83056                1.539040                0.016719                0.015781   \n",
      "83057                1.087980                0.009502                0.005835   \n",
      "83058                0.545855                0.004547                0.008813   \n",
      "83059                2.831840                0.029020                0.018271   \n",
      "83060                1.577460                0.023146                0.020124   \n",
      "\n",
      "        ARC_IMG  PTS_RIM_IMG  \n",
      "60     0.950620          909  \n",
      "61     0.837822          138  \n",
      "62     0.835889           87  \n",
      "63     0.811082          324  \n",
      "64     0.808584          134  \n",
      "...         ...          ...  \n",
      "83056  0.192460           32  \n",
      "83057  0.635919           73  \n",
      "83058  0.850627           91  \n",
      "83059  0.463803           45  \n",
      "83060  0.341349           24  \n",
      "\n",
      "[83001 rows x 22 columns]\n"
     ]
    }
   ],
   "source": [
    "# Import and read a dataset from an external file\n",
    "import pandas as pd\n",
    "import numpy as np\n",
    "import matplotlib.pyplot as plt\n",
    "import math\n",
    "from sympy import Eq, Symbol, solve\n",
    "\n",
    "craters = pd.read_csv(\"AstroStats_Robbins_Moon.csv\", sep = \",\")\n",
    "\n",
    "#indexing from a certain row\n",
    "print (craters[60:])"
   ]
  },
  {
   "cell_type": "markdown",
   "metadata": {},
   "source": [
    "A Monte Carlo simulation was applied to generate possible impactors of various diameters, velocities, densities, and impact angles. These randomly generated asteroids were used to create a distribution of resultant crater sizes. Craters whose sizes fell within the range of crater sizes for asteroids larger than 140m can then be ascertained. "
   ]
  },
  {
   "cell_type": "code",
   "execution_count": 195,
   "metadata": {},
   "outputs": [
    {
     "data": {
      "image/png": "[encoded data removed]",
      "text/plain": [
       "<Figure size 640x480 with 1 Axes>"
      ]
     },
     "metadata": {},
     "output_type": "display_data"
    },
    {
     "name": "stdout",
     "output_type": "stream",
     "text": [
      "Min angle 0.05\n",
      "Max angle 89.76\n"
     ]
    }
   ],
   "source": [
    "# generate random impact scenarios for Monte Carlo modeling\n",
    "import random # importing the Python random library\n",
    "\n",
    "angles=[] #declare list\n",
    "for _ in range(100000): # asking this to do stuff 10000 times\n",
    "    u=random.uniform(0,1) # random number between 0 and 1\n",
    "    angle=(90/np.pi)*np.arccos(2*u-1) # Distribution of angles according to Mathias et al.\n",
    "    angles.append(angle)\n",
    "\n",
    "plt.hist(angles, bins=100)\n",
    "plt.xlabel('Angle (Degrees from horizontal)')\n",
    "plt.ylabel('Frequency')\n",
    "plt.title('Distribution of Impact Angles')\n",
    "plt.show()\n",
    "\n",
    "print('Min angle: %.2f' % min(angles))\n",
    "print('Max angle: %.2f' % max(angles))"
   ]
  },
  {
   "cell_type": "code",
   "execution_count": 208,
   "metadata": {},
   "outputs": [],
   "source": [
    "# generate the ditribution of densities according to Mathias et al.\n",
    "asteroid_densities_g=[3.38,3.3,3.19,2.27,6.75,7.15,2.84,3.12,2.86] # densities of different asteroid types (g/cm3)\n",
    "asteroid_densities=[density*1000 for density in asteroid_densities_g]\n",
    "densities=[]\n",
    "\n",
    "for _ in range(10000):\n",
    "       # density=np.random.normal(np.mean(asteroid_densities[i]), np.std(std_densities[i]), size=None)\n",
    "       # densities.append(density)\n",
    "    density=min(asteroid_densities)*random.weibullvariate(1, 1.7)+1\n",
    "    densities.append(density)\n"
   ]
  },
  {
   "cell_type": "code",
   "execution_count": 210,
   "metadata": {},
   "outputs": [
    {
     "name": "stdout",
     "output_type": "stream",
     "text": [
      "Max density: 7735.77 kg/m3\n"
     ]
    },
    {
     "data": {
      "image/png": "[encoded data removed]",
      "text/plain": [
       "<Figure size 640x480 with 1 Axes>"
      ]
     },
     "metadata": {},
     "output_type": "display_data"
    }
   ],
   "source": [
    "plt.hist(densities, bins=100)\n",
    "plt.xlabel('Density (g/cm3)')\n",
    "plt.ylabel('Number of asteroids')\n",
    "plt.title('Density Distribution')\n",
    "print('Max density: %.2f' % max(densities), 'kg/m3')"
   ]
  },
  {
   "cell_type": "code",
   "execution_count": 211,
   "metadata": {},
   "outputs": [
    {
     "name": "stdout",
     "output_type": "stream",
     "text": [
      "Maximum velocity: 40.40 km/s\n"
     ]
    },
    {
     "data": {
      "image/png": "[encoded data removed]",
      "text/plain": [
       "<Figure size 640x480 with 1 Axes>"
      ]
     },
     "metadata": {},
     "output_type": "display_data"
    }
   ],
   "source": [
    "#generate distribution of velocities\n",
    "\n",
    "velocities=[]\n",
    "for _ in range(1000000):\n",
    "\tvelocity=10*random.weibullvariate(.7, 1.8)+10\n",
    "\tvelocities.append(velocity)\n",
    "# Let's check that this looks correct.\n",
    "plt.hist(velocities,bins=50) #again we'll check the results to make sure they make sense\n",
    "plt.xlabel(\"Velocity (km/s)\") \n",
    "plt.ylabel(\"Number of asteroids\")\n",
    "plt.title('Velocity Distribution')\n",
    "plt.xlim(0,70)\n",
    "#Is the maximum value what we want it to be?\n",
    "print(\"Maximum velocity:\",'%.2f' %max(velocities),\"km/s\")\n"
   ]
  },
  {
   "cell_type": "markdown",
   "metadata": {},
   "source": [
    "In order to relate the craters in the database to the sizes of the asteroids that made them, a scaling law (Melosh, 1989) was used that relates the crater size, asteroid density, moon density, asteroid velocity, acceleration of gravity at the moon’s surface, and the angle of impact. The original equation solves for crater size, so a “solve” function was employed to find our single unknown using placeholder values. The distributions found earlier were then input into the equation to find all of the craters made by asteroids larger than 140 meters in the dataset."
   ]
  },
  {
   "cell_type": "code",
   "execution_count": 212,
   "metadata": {},
   "outputs": [
    {
     "name": "stdout",
     "output_type": "stream",
     "text": [
      "asteroid diameter (m) [140.248708504796]\n"
     ]
    }
   ],
   "source": [
    "D_tc = 234 #PLACEHOLDER Crater diameter at level of ground surface (m)\n",
    "rho_p = 6000  # PLACEHOLDER Density of asteroid (projectile)(kg/m^3)\n",
    "rho_t = 2550 #Density of (moon) target (kg/m^3)\n",
    "#L = 140 #SOLVING FOR -- Diameter of projectile (asteroid) (m)\n",
    "v_i = 18 #PLACEHOLDER impact velocity (km/s)\n",
    "g = 1.625 #surface gravity (m/s^2)\n",
    "theta = 3.14159/2 #PLACEHOLDER impact angle, referencing from horizontal (rad)\n",
    "\n",
    "L = Symbol('L')\n",
    "\n",
    "a = Symbol('a')\n",
    "b = Symbol('b')\n",
    "c = Symbol('c')\n",
    "d = Symbol('d')\n",
    "e = Symbol('e')\n",
    "\n",
    "a = (1.161*(rho_p/rho_t)**(1/3))\n",
    "b = (L**.78)\n",
    "c = (v_i**(0.44))\n",
    "d = (g**(-0.22))\n",
    "e = (math.sin(theta)**(1/3))\n",
    "\n",
    "L = Symbol('L')\n",
    "eqn = Eq(D_tc, a*b*c*d*e)\n",
    "\n",
    "h = solve(eqn,L)\n",
    "print (\"asteroid diameter (m)\", h)\n"
   ]
  },
  {
   "cell_type": "markdown",
   "metadata": {},
   "source": [
    "The last thing to do was filter the dataset into the craters inside the largest maria, Oceanus Procellarum, whose location and boundary region was approximated using the coordinates of the center of the mare. The mare’s outline was approximated as a circle for the sake of simplicity. An inscribed square was then created within that circle, providing minimum and maximum latitudes and longitudes. This area served as our observation area for simplicity of code and better ensure that we did not include any craters that are outside of the non-abstracted area of the mare. All asteroids with center coordinates within this square were filtered out as part of our dataset. This filtered dataset was then filtered to extract craters that were created by asteroids greater than 140m. "
   ]
  },
  {
   "cell_type": "code",
   "execution_count": 213,
   "metadata": {},
   "outputs": [
    {
     "name": "stdout",
     "output_type": "stream",
     "text": [
      "       Unnamed: 0    CRATER_ID  LAT_CIRC_IMG  LON_CIRC_IMG  LAT_ELLI_IMG  \\\n",
      "1               1  00-1-000001      44.77630       328.602      44.40830   \n",
      "19             19  00-1-000019      -4.78646       291.203      -6.09377   \n",
      "30943      396756  04-1-000704       2.22827       292.620       2.23209   \n",
      "30965      396778  04-1-000726      21.55850       287.930      21.55380   \n",
      "30966      396779  04-1-000727      23.03760       283.275      23.03580   \n",
      "32370      450260  04-2-000002      46.55980       275.798      46.52480   \n",
      "32952      461990  04-2-019014       2.77389       283.513       2.76495   \n",
      "32971      462009  04-2-019033      12.14690       279.797      11.84030   \n",
      "33040      462376  05-1-000014      -3.25265       315.839      -3.23267   \n",
      "33046      462382  05-1-000020      -2.79050       285.577      -2.78749   \n",
      "33165      462501  05-1-000139     -10.71070       317.521     -10.74930   \n",
      "\n",
      "       LON_ELLI_IMG  DIAM_CIRC_IMG  DIAM_CIRC_SD_IMG  DIAM_ELLI_MAJOR_IMG  \\\n",
      "1           329.046        249.840           5.99621              289.440   \n",
      "19          291.428        463.755           5.20145              451.721   \n",
      "30943       292.619        110.731           2.81289              112.934   \n",
      "30965       287.937        129.798           3.49592              134.427   \n",
      "30966       283.276        182.170           2.47670              183.494   \n",
      "32370       275.786        198.472           4.28063              202.677   \n",
      "32952       283.547        148.767           4.00594              153.944   \n",
      "32971       279.626        103.537           2.67838              102.080   \n",
      "33040       315.834        106.778           2.50942              112.291   \n",
      "33046       285.572        156.267           3.45849              158.997   \n",
      "33165       317.479        114.854           2.82743              117.512   \n",
      "\n",
      "       DIAM_ELLI_MINOR_IMG  ...  DIAM_ELLI_ANGLE_IMG  LAT_ELLI_SD_IMG  \\\n",
      "1                 245.7860  ...            127.00300         0.011178   \n",
      "19                374.7930  ...              9.03887         0.030687   \n",
      "30943             108.7260  ...             56.10500         0.004082   \n",
      "30965             124.3970  ...             78.52460         0.004306   \n",
      "30966             180.3210  ...            133.31800         0.004245   \n",
      "32370             192.8740  ...            174.12800         0.007422   \n",
      "32952             143.9150  ...              9.96860         0.011254   \n",
      "32971              79.0168  ...            155.77100         0.033016   \n",
      "33040             102.4830  ...             77.22880         0.003343   \n",
      "33046             153.1760  ...            121.13900         0.004249   \n",
      "33165             108.3950  ...            139.61600         0.004849   \n",
      "\n",
      "       LON_ELLI_SD_IMG  DIAM_ELLI_MAJOR_SD_IMG  DIAM_ELLI_MINOR_SD_IMG  \\\n",
      "1             0.015101                1.052780                0.209035   \n",
      "19            0.011137                0.377578                1.949660   \n",
      "30943         0.003526                0.317566                0.243443   \n",
      "30965         0.004621                0.315289                0.316919   \n",
      "30966         0.004323                0.271110                0.296317   \n",
      "32370         0.009511                0.508420                0.572339   \n",
      "32952         0.014474                0.975426                0.838697   \n",
      "32971         0.041054                1.263100                2.898180   \n",
      "33040         0.002453                0.245821                0.179425   \n",
      "33046         0.003631                0.294106                0.277260   \n",
      "33165         0.004612                0.278841                0.424446   \n",
      "\n",
      "       DIAM_ELLI_ANGLE_SD_IMG  DIAM_ELLI_ECCEN_SD_IMG  DIAM_ELLI_ELLIP_SD_IMG  \\\n",
      "1                    0.357296                0.005100                0.004399   \n",
      "19                   0.566346                0.006497                0.006350   \n",
      "30943                3.074320                0.012321                0.003734   \n",
      "30965                1.500270                0.007824                0.003742   \n",
      "30966                5.200010                0.011526                0.002249   \n",
      "32370                2.274170                0.011453                0.004083   \n",
      "32952                3.770240                0.021191                0.009209   \n",
      "32971                3.173240                0.036634                0.050007   \n",
      "33040                1.066750                0.005712                0.003071   \n",
      "33046                2.476590                0.008959                0.002686   \n",
      "33165                1.481170                0.010087                0.004964   \n",
      "\n",
      "        ARC_IMG  PTS_RIM_IMG  \n",
      "1      0.627328         2785  \n",
      "19     0.164592          165  \n",
      "30943  0.839550          786  \n",
      "30965  1.000000          611  \n",
      "30966  0.750248          664  \n",
      "32370  0.685020          365  \n",
      "32952  0.376579          227  \n",
      "32971  0.324925          124  \n",
      "33040  0.850704          783  \n",
      "33046  0.885174          869  \n",
      "33165  0.749799          916  \n",
      "\n",
      "[11 rows x 22 columns]\n"
     ]
    }
   ],
   "source": [
    "# Import and read a dataset from an external file\n",
    "import pandas as pd\n",
    "import numpy as np\n",
    "import matplotlib.pyplot as plt\n",
    "\n",
    "\n",
    "craters = pd.read_csv(\"AstroStats_Robbins_Moon.csv\", sep = \",\")\n",
    "\n",
    "# Find all craters likely caused by asteroids >140m\n",
    "min_crater_size=100 #Currently an arbitrary value\n",
    "\n",
    "half_distance=30.221 #This distance is the number of degrees you would need to travel from the center of the mare to the side of an inscribed rectangle within it\n",
    "center_long=302.6   #This is the longitude coordinate of the center of the mare\n",
    "center_lat=18.4 #This is the latitude coordinate of the center of the mare\n",
    "\n",
    "#The following lines calculate the bounds of the box we are observing\n",
    "max_long=center_long+half_distance\n",
    "min_long=center_long-half_distance\n",
    "max_lat=center_lat+half_distance\n",
    "min_lat=center_lat-half_distance\n",
    "\n",
    "big_craters=craters[(craters[\"DIAM_CIRC_IMG\"] >= min_crater_size)] #Filters out any craters smaller than the minimum size\n",
    "\n",
    "#Filter out Longitudes out of our observation area\n",
    "filtered_craters=big_craters[(big_craters[\"LON_CIRC_IMG\"] >= min_long) & (big_craters[\"LON_CIRC_IMG\"] <= max_long)]\n",
    "\n",
    "#Filter out Latitudes out of our observation area\n",
    "filtered_craters=filtered_craters[(filtered_craters[\"LAT_CIRC_IMG\"] >= min_lat) & (filtered_craters[\"LAT_CIRC_IMG\"] <= max_lat)]\n",
    "print(filtered_craters)"
   ]
  },
  {
   "cell_type": "code",
   "execution_count": 214,
   "metadata": {},
   "outputs": [
    {
     "name": "stdout",
     "output_type": "stream",
     "text": [
      "[[217.864512426341], [474.686215136392], [88.7934797514145], [92.2087794599747], [230.265723656438], [293.384836832656], [114.918175969828], [100.936666536380], [112.022355924947], [184.941837824030], [85.6246186646911]]\n"
     ]
    }
   ],
   "source": [
    "actual_crater_diameters=filtered_craters.DIAM_CIRC_IMG\n",
    "rand_densities=densities[:len(actual_crater_diameters)]\n",
    "rand_velocities=velocities[:len(actual_crater_diameters)]\n",
    "rand_angles=angles[:len(actual_crater_diameters)]\n",
    "\n",
    "rho_t = 2550 #Density of (moon) target (kg/m^3)\n",
    "g = 1.625 #surface gravity (m/s^2)\n",
    "L = Symbol('L')\n",
    "\n",
    "\n",
    "predicted_asteroid_diam=[]\n",
    "\n",
    "for crater, crater_diam in enumerate(actual_crater_diameters):\n",
    "    \n",
    "    D_tc = crater_diam # Crater diameter at level of ground surface (m)\n",
    "    rho_p = rand_densities[crater]  # Density of asteroid (projectile)(kg/m^3)\n",
    "    v_i = rand_velocities[crater] # impact velocity (km/s)\n",
    "    theta = rand_angles[crater] # impact angle, referencing from horizontal (rad)\n",
    "\n",
    "    a = (1.161*(rho_p/rho_t)**(1/3))\n",
    "    b = (L**.78)\n",
    "    c = (v_i**(0.44))\n",
    "    d = (g**(-0.22))\n",
    "    e = (math.sin(math.radians(theta))**(1/3))\n",
    "\n",
    "    eqn = Eq(D_tc, a*b*c*d*e)\n",
    "    predicted_diam=solve(eqn,L)\n",
    "    predicted_asteroid_diam.append(predicted_diam)\n",
    "\n",
    "    \n",
    "print(predicted_asteroid_diam)"
   ]
  },
  {
   "cell_type": "markdown",
   "metadata": {},
   "source": [
    "#### Works cited\n",
    "\n",
    "approximate ratios between the diameters of terrestrial impact craters and the causative incident asteroids | Monthly Notices of the Royal\n",
    "Astronomical Society | Oxford Academic.\n",
    "\n",
    "Carry, B. 2012, Planetary and Space Science, 73, 98\n",
    "\n",
    "Che, X., Nemchin, A., Liu, D., et al. 2021, Science, 374 (American Association for the Advancement of Science), 887\n",
    "\n",
    "Hirt, C., & Featherstone, W. E. 2012, Earth and Planetary Science Letters, 329–330, 22\n",
    "Hughes, D. W. 2003, Monthly Notices of the Royal Astronomical Society, 338, 999\n",
    "Ivanov, B. A., & Artemieva, N. A. 2002, in Catastrophic events and mass extinctions: impacts and beyond (Geological Society of America)\n",
    "\n",
    "Jansen, J. C., Andrews-Hanna, J. C., Li, Y., et al. 2017, Icarus, 291, 107\n",
    "\n",
    "Mathias, D. L., Wheeler, L. F., & Dotson, J. L. 2017, Icarus, 289, 106\n",
    "\n",
    "Mazrouei, S., Ghent, R. R., Bottke, W. F., Parker, A. H., & Gernon, T. M. 2019, Science, 363 (American Association for the Advancement of Science), 253\n",
    "\n",
    "Melosh, H. J. 2011, Planetary Surface Processes (1st ed.; Cambridge University Press)\n",
    "\n",
    "NASA’s Moon Data Sheds Light on Earth’s Asteroid Impact History - NASA Science.\n",
    "\n",
    "Nelson, D. M., Koeber, S. D., Daud, K., Robinson, M. S., Watters, T. R., Banks, M. E., & Williams, N. R. (2014, March). Mapping lunar maria extents and lobate scarps using LROC image products. In Lunar and Planetary Science Conference (Vol. 45, p. 2861).\n"
   ]
  }
 ],
 "metadata": {
  "kernelspec": {
   "display_name": "Python 3",
   "language": "python",
   "name": "python3"
  },
  "language_info": {
   "codemirror_mode": {
    "name": "ipython",
    "version": 3
   },
   "file_extension": ".py",
   "mimetype": "text/x-python",
   "name": "python",
   "nbconvert_exporter": "python",
   "pygments_lexer": "ipython3",
   "version": "3.11.4"
  },
  "vscode": {
   "interpreter": {
    "hash": "8a5edab282632443219e051e4ade2d1d5bbc671c781051bf1437897cbdfea0f1"
   }
  }
 },
 "nbformat": 4,
 "nbformat_minor": 2
}
