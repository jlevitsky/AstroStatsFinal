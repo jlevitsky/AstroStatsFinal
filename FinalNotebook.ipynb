{
 "cells": [
  {
   "cell_type": "code",
   "execution_count": null,
   "metadata": {},
   "outputs": [],
   "source": [
    "# Import and read a dataset from an external file\n",
    "# NOTE: you must import the file by hand form your latop to the files library first.\n",
    "# I'm using 'AstroStats_Robbins_Moon.csv'as an example\n",
    "from astropy.io import fits\n",
    "import pandas as pd\n",
    "\n",
    "\n",
    "import pandas as pd\n",
    "df=pd.read_csv('gdrive/My Drive/Astro Stats Final Project/AstroState_Robbins_Moon.csv')\n",
    "\n",
    "# Upload the file\n",
    "open('AstroStats_Robbins_Moon.csv')\n",
    "craters = pd.read_csv(\"AstroStats_Robbins_Moon.csv\", sep = \",\")\n",
    "\n",
    "#indexing from a certain row\n",
    "print (craters[60:])"
   ]
  }
 ],
 "metadata": {
  "language_info": {
   "name": "python"
  }
 },
 "nbformat": 4,
 "nbformat_minor": 2
}
